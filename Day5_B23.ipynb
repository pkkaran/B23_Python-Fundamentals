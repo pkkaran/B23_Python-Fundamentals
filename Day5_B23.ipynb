{
 "cells": [
  {
   "cell_type": "code",
   "execution_count": null,
   "metadata": {},
   "outputs": [],
   "source": [
    "#Introduction to Looping Statements"
   ]
  },
  {
   "cell_type": "code",
   "execution_count": 2,
   "metadata": {},
   "outputs": [],
   "source": [
    "bank_customers=['ram','peter','kim','srini','vel','vidhya','sharmi']"
   ]
  },
  {
   "cell_type": "code",
   "execution_count": 3,
   "metadata": {},
   "outputs": [
    {
     "name": "stdout",
     "output_type": "stream",
     "text": [
      "['ram', 'peter', 'kim', 'srini', 'vel', 'vidhya', 'sharmi']\n"
     ]
    }
   ],
   "source": [
    "print(bank_customers)"
   ]
  },
  {
   "cell_type": "code",
   "execution_count": null,
   "metadata": {},
   "outputs": [],
   "source": [
    "#reg. to greet customers on a new year"
   ]
  },
  {
   "cell_type": "code",
   "execution_count": 5,
   "metadata": {},
   "outputs": [
    {
     "name": "stdout",
     "output_type": "stream",
     "text": [
      "wishing you a very happy new year, ram\n"
     ]
    }
   ],
   "source": [
    "print(f\"wishing you a very happy new year, {bank_customers[0]}\")"
   ]
  },
  {
   "cell_type": "code",
   "execution_count": 6,
   "metadata": {},
   "outputs": [
    {
     "name": "stdout",
     "output_type": "stream",
     "text": [
      "wishing you a very happy new year, ram\n",
      "wishing you a very happy new year, peter\n",
      "wishing you a very happy new year, kim\n",
      "wishing you a very happy new year, srini\n",
      "wishing you a very happy new year, vel\n",
      "wishing you a very happy new year, vidhya\n",
      "wishing you a very happy new year, sharmi\n"
     ]
    }
   ],
   "source": [
    "for customer in bank_customers:\n",
    "    print(f\"wishing you a very happy new year, {customer}\")"
   ]
  },
  {
   "cell_type": "code",
   "execution_count": 7,
   "metadata": {},
   "outputs": [
    {
     "ename": "IndentationError",
     "evalue": "expected an indented block (<ipython-input-7-c618b6c91bb2>, line 3)",
     "output_type": "error",
     "traceback": [
      "\u001b[1;36m  File \u001b[1;32m\"<ipython-input-7-c618b6c91bb2>\"\u001b[1;36m, line \u001b[1;32m3\u001b[0m\n\u001b[1;33m    print(tempvar)\u001b[0m\n\u001b[1;37m        ^\u001b[0m\n\u001b[1;31mIndentationError\u001b[0m\u001b[1;31m:\u001b[0m expected an indented block\n"
     ]
    }
   ],
   "source": [
    "#general syntax of a for loop\n",
    "for tempvar in mainvar:\n",
    "print(tempvar)"
   ]
  },
  {
   "cell_type": "code",
   "execution_count": 8,
   "metadata": {},
   "outputs": [
    {
     "name": "stdout",
     "output_type": "stream",
     "text": [
      "wishing you a very happy new year, ram\n",
      "wishing you a very happy new year, peter\n",
      "wishing you a very happy new year, kim\n",
      "wishing you a very happy new year, srini\n",
      "wishing you a very happy new year, vel\n",
      "wishing you a very happy new year, vidhya\n",
      "wishing you a very happy new year, sharmi\n"
     ]
    }
   ],
   "source": [
    "for x in bank_customers:\n",
    "     print(f\"wishing you a very happy new year, {x}\")"
   ]
  },
  {
   "cell_type": "code",
   "execution_count": 9,
   "metadata": {},
   "outputs": [
    {
     "name": "stdout",
     "output_type": "stream",
     "text": [
      "['hannah', 'petu', 'dave', 'karen']\n"
     ]
    }
   ],
   "source": [
    "students=['hannah','petu','dave','karen']\n",
    "print(students)"
   ]
  },
  {
   "cell_type": "code",
   "execution_count": 10,
   "metadata": {},
   "outputs": [
    {
     "name": "stdout",
     "output_type": "stream",
     "text": [
      "keep up the good work, ['hannah', 'petu', 'dave', 'karen']\n"
     ]
    }
   ],
   "source": [
    "#req. to appreciate students\n",
    "print(f\"keep up the good work, {students}\")"
   ]
  },
  {
   "cell_type": "code",
   "execution_count": 11,
   "metadata": {},
   "outputs": [
    {
     "name": "stdout",
     "output_type": "stream",
     "text": [
      "keep up the good work, hannah\n",
      "keep up the good work, petu\n",
      "keep up the good work, dave\n",
      "keep up the good work, karen\n"
     ]
    }
   ],
   "source": [
    "for x in students:\n",
    "    print(f\"keep up the good work, {x}\")"
   ]
  },
  {
   "cell_type": "code",
   "execution_count": 14,
   "metadata": {},
   "outputs": [
    {
     "name": "stdout",
     "output_type": "stream",
     "text": [
      "keep up the good work, Hannah\n",
      "keep up the good work, Petu\n",
      "keep up the good work, Dave\n",
      "keep up the good work, Karen\n"
     ]
    }
   ],
   "source": [
    " for x in students:\n",
    "    print(f\"keep up the good work, {x.title()}\")"
   ]
  },
  {
   "cell_type": "code",
   "execution_count": 18,
   "metadata": {},
   "outputs": [
    {
     "name": "stdout",
     "output_type": "stream",
     "text": [
      "keep up the good work, Hannah\n",
      "I will expect the same to continue in the future, Hannah\n",
      "keep up the good work, Petu\n",
      "I will expect the same to continue in the future, Petu\n",
      "keep up the good work, Dave\n",
      "I will expect the same to continue in the future, Dave\n",
      "keep up the good work, Karen\n",
      "I will expect the same to continue in the future, Karen\n"
     ]
    }
   ],
   "source": [
    "for x in students:\n",
    "    print(f\"keep up the good work, {x.title()}\")\n",
    "    print(f\"I will expect the same to continue in the future, {x.title()}\")"
   ]
  },
  {
   "cell_type": "code",
   "execution_count": 19,
   "metadata": {},
   "outputs": [
    {
     "name": "stdout",
     "output_type": "stream",
     "text": [
      "keep up the good work, Hannah\n",
      "I will expect the same to continue in the future, Hannah\n",
      "\n",
      "keep up the good work, Petu\n",
      "I will expect the same to continue in the future, Petu\n",
      "\n",
      "keep up the good work, Dave\n",
      "I will expect the same to continue in the future, Dave\n",
      "\n",
      "keep up the good work, Karen\n",
      "I will expect the same to continue in the future, Karen\n",
      "\n"
     ]
    }
   ],
   "source": [
    "for x in students:\n",
    "    print(f\"keep up the good work, {x.title()}\")\n",
    "    print(f\"I will expect the same to continue in the future, {x.title()}\\n\")"
   ]
  },
  {
   "cell_type": "code",
   "execution_count": 22,
   "metadata": {},
   "outputs": [
    {
     "name": "stdout",
     "output_type": "stream",
     "text": [
      "keep up the good work, Hannah\n",
      "I will expect the same to continue in the future, Hannah\n",
      "\n",
      "keep up the good work, Petu\n",
      "I will expect the same to continue in the future, Petu\n",
      "\n",
      "keep up the good work, Dave\n",
      "I will expect the same to continue in the future, Dave\n",
      "\n",
      "keep up the good work, Karen\n",
      "I will expect the same to continue in the future, Karen\n",
      "\n",
      "Thank you All\n"
     ]
    }
   ],
   "source": [
    "for x in students:\n",
    "    print(f\"keep up the good work, {x.title()}\")\n",
    "    print(f\"I will expect the same to continue in the future, {x.title()}\\n\")\n",
    "    \n",
    "print('Thank you All')"
   ]
  },
  {
   "cell_type": "code",
   "execution_count": null,
   "metadata": {},
   "outputs": [],
   "source": [
    "#Int. to organizing the list"
   ]
  },
  {
   "cell_type": "code",
   "execution_count": 23,
   "metadata": {},
   "outputs": [
    {
     "name": "stdout",
     "output_type": "stream",
     "text": [
      "['hannah', 'petu', 'dave', 'karen']\n"
     ]
    }
   ],
   "source": [
    "print(students)"
   ]
  },
  {
   "cell_type": "code",
   "execution_count": null,
   "metadata": {},
   "outputs": [],
   "source": [
    "# Two possible to do\n",
    "# Temp way and Permanent way"
   ]
  },
  {
   "cell_type": "code",
   "execution_count": 25,
   "metadata": {},
   "outputs": [
    {
     "name": "stdout",
     "output_type": "stream",
     "text": [
      "['dave', 'hannah', 'karen', 'petu']\n"
     ]
    }
   ],
   "source": [
    "print(sorted(students))"
   ]
  },
  {
   "cell_type": "code",
   "execution_count": 26,
   "metadata": {},
   "outputs": [
    {
     "name": "stdout",
     "output_type": "stream",
     "text": [
      "['hannah', 'petu', 'dave', 'karen']\n"
     ]
    }
   ],
   "source": [
    "print(students)"
   ]
  },
  {
   "cell_type": "code",
   "execution_count": null,
   "metadata": {},
   "outputs": [],
   "source": [
    "# In line 26 we can see, the names are back in non-alphabetical order (Temp way)"
   ]
  },
  {
   "cell_type": "code",
   "execution_count": 28,
   "metadata": {},
   "outputs": [
    {
     "name": "stdout",
     "output_type": "stream",
     "text": [
      "['dave', 'hannah', 'karen', 'petu']\n"
     ]
    }
   ],
   "source": [
    "students.sort()\n",
    "print(students)"
   ]
  },
  {
   "cell_type": "code",
   "execution_count": 29,
   "metadata": {},
   "outputs": [
    {
     "name": "stdout",
     "output_type": "stream",
     "text": [
      "['dave', 'hannah', 'karen', 'petu']\n"
     ]
    }
   ],
   "source": [
    "print(students)"
   ]
  },
  {
   "cell_type": "code",
   "execution_count": null,
   "metadata": {},
   "outputs": [],
   "source": [
    "# The sort command will maintain the list in alphaetical order in a permanent way (line28)"
   ]
  },
  {
   "cell_type": "code",
   "execution_count": null,
   "metadata": {},
   "outputs": [],
   "source": [
    "####### sort vs sorted (Interview question)"
   ]
  }
 ],
 "metadata": {
  "kernelspec": {
   "display_name": "Python 3",
   "language": "python",
   "name": "python3"
  },
  "language_info": {
   "codemirror_mode": {
    "name": "ipython",
    "version": 3
   },
   "file_extension": ".py",
   "mimetype": "text/x-python",
   "name": "python",
   "nbconvert_exporter": "python",
   "pygments_lexer": "ipython3",
   "version": "3.7.6"
  }
 },
 "nbformat": 4,
 "nbformat_minor": 4
}
