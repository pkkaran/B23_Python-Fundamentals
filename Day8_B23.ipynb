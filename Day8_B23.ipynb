{
 "cells": [
  {
   "cell_type": "code",
   "execution_count": null,
   "metadata": {},
   "outputs": [],
   "source": [
    "# Continuation on dictionaries"
   ]
  },
  {
   "cell_type": "code",
   "execution_count": 9,
   "metadata": {},
   "outputs": [],
   "source": [
    "alien={'colour':'green','points':5,'start_position':0,'current_position':10}"
   ]
  },
  {
   "cell_type": "code",
   "execution_count": 10,
   "metadata": {},
   "outputs": [
    {
     "name": "stdout",
     "output_type": "stream",
     "text": [
      "{'colour': 'green', 'points': 5, 'start_position': 0, 'current_position': 10}\n"
     ]
    }
   ],
   "source": [
    "print(alien)"
   ]
  },
  {
   "cell_type": "code",
   "execution_count": null,
   "metadata": {},
   "outputs": [],
   "source": [
    "#modifying the value in a dictionary"
   ]
  },
  {
   "cell_type": "code",
   "execution_count": 14,
   "metadata": {},
   "outputs": [],
   "source": [
    "alien['colour']='yellow'"
   ]
  },
  {
   "cell_type": "code",
   "execution_count": 15,
   "metadata": {},
   "outputs": [],
   "source": [
    "alien['points']=10"
   ]
  },
  {
   "cell_type": "code",
   "execution_count": 16,
   "metadata": {},
   "outputs": [
    {
     "name": "stdout",
     "output_type": "stream",
     "text": [
      "{'colour': 'yellow', 'points': 10, 'start_position': 0, 'current_position': 10}\n"
     ]
    }
   ],
   "source": [
    "print(alien)"
   ]
  },
  {
   "cell_type": "code",
   "execution_count": null,
   "metadata": {},
   "outputs": [],
   "source": [
    "#Introduction to looping with dictionaries"
   ]
  },
  {
   "cell_type": "code",
   "execution_count": 17,
   "metadata": {},
   "outputs": [],
   "source": [
    "fav_languages = {'ram':'english', 'peter':'tamil','kim':'telugu','srini':'german','vel':'french','vidhya':'italy','sharmi':'japanese'}"
   ]
  },
  {
   "cell_type": "code",
   "execution_count": null,
   "metadata": {},
   "outputs": [],
   "source": [
    "#normal syntax\n",
    "\n",
    "for tempvar in mainvar:\n",
    "    print(tempvar)"
   ]
  },
  {
   "cell_type": "code",
   "execution_count": null,
   "metadata": {},
   "outputs": [],
   "source": [
    "# with dict"
   ]
  },
  {
   "cell_type": "code",
   "execution_count": null,
   "metadata": {},
   "outputs": [],
   "source": [
    "for temp1, temp2 in mainvar.items():\n",
    "    print(temp1)\n",
    "    print(temp2)"
   ]
  },
  {
   "cell_type": "code",
   "execution_count": 31,
   "metadata": {},
   "outputs": [
    {
     "name": "stdout",
     "output_type": "stream",
     "text": [
      "key: ram\n",
      "value: english\n",
      "key: peter\n",
      "value: tamil\n",
      "key: kim\n",
      "value: telugu\n",
      "key: srini\n",
      "value: german\n",
      "key: vel\n",
      "value: french\n",
      "key: vidhya\n",
      "value: italy\n",
      "key: sharmi\n",
      "value: japanese\n"
     ]
    }
   ],
   "source": [
    "for x,y in fav_languages.items():\n",
    "    print(f\"key: {x}\")\n",
    "    print(f\"value: {y}\")"
   ]
  },
  {
   "cell_type": "code",
   "execution_count": 32,
   "metadata": {},
   "outputs": [
    {
     "name": "stdout",
     "output_type": "stream",
     "text": [
      "key: ram\n",
      "value: english\n",
      "\n",
      "key: peter\n",
      "value: tamil\n",
      "\n",
      "key: kim\n",
      "value: telugu\n",
      "\n",
      "key: srini\n",
      "value: german\n",
      "\n",
      "key: vel\n",
      "value: french\n",
      "\n",
      "key: vidhya\n",
      "value: italy\n",
      "\n",
      "key: sharmi\n",
      "value: japanese\n",
      "\n"
     ]
    }
   ],
   "source": [
    "for x,y in fav_languages.items():\n",
    "    print(f\"key: {x}\")\n",
    "    print(f\"value: {y}\\n\")"
   ]
  },
  {
   "cell_type": "code",
   "execution_count": null,
   "metadata": {},
   "outputs": [],
   "source": [
    "#i want to know which students participated in survey"
   ]
  },
  {
   "cell_type": "code",
   "execution_count": 36,
   "metadata": {},
   "outputs": [
    {
     "name": "stdout",
     "output_type": "stream",
     "text": [
      "student: ram\n",
      "student: peter\n",
      "student: kim\n",
      "student: srini\n",
      "student: vel\n",
      "student: vidhya\n",
      "student: sharmi\n"
     ]
    }
   ],
   "source": [
    "for x in fav_languages.keys():\n",
    "    print(f\"student: {x}\")"
   ]
  },
  {
   "cell_type": "code",
   "execution_count": 37,
   "metadata": {},
   "outputs": [
    {
     "name": "stdout",
     "output_type": "stream",
     "text": [
      "\n",
      "student: ram\n",
      "\n",
      "student: peter\n",
      "\n",
      "student: kim\n",
      "\n",
      "student: srini\n",
      "\n",
      "student: vel\n",
      "\n",
      "student: vidhya\n",
      "\n",
      "student: sharmi\n"
     ]
    }
   ],
   "source": [
    "for x in fav_languages.keys():\n",
    "    print(f\"\\nstudent: {x}\")"
   ]
  },
  {
   "cell_type": "code",
   "execution_count": null,
   "metadata": {},
   "outputs": [],
   "source": [
    "# I want to know their choices"
   ]
  },
  {
   "cell_type": "code",
   "execution_count": 40,
   "metadata": {},
   "outputs": [
    {
     "name": "stdout",
     "output_type": "stream",
     "text": [
      "\n",
      "choices: english\n",
      "\n",
      "choices: tamil\n",
      "\n",
      "choices: telugu\n",
      "\n",
      "choices: german\n",
      "\n",
      "choices: french\n",
      "\n",
      "choices: italy\n",
      "\n",
      "choices: japanese\n"
     ]
    }
   ],
   "source": [
    "for y in fav_languages.values():\n",
    "    print(f\"\\nchoices: {y}\")"
   ]
  },
  {
   "cell_type": "code",
   "execution_count": null,
   "metadata": {},
   "outputs": [],
   "source": []
  }
 ],
 "metadata": {
  "kernelspec": {
   "display_name": "Python 3",
   "language": "python",
   "name": "python3"
  },
  "language_info": {
   "codemirror_mode": {
    "name": "ipython",
    "version": 3
   },
   "file_extension": ".py",
   "mimetype": "text/x-python",
   "name": "python",
   "nbconvert_exporter": "python",
   "pygments_lexer": "ipython3",
   "version": "3.7.6"
  }
 },
 "nbformat": 4,
 "nbformat_minor": 4
}
